{
 "cells": [
  {
   "cell_type": "code",
   "execution_count": 41,
   "metadata": {
    "collapsed": true
   },
   "outputs": [
    {
     "name": "stderr",
     "output_type": "stream",
     "text": [
      "WARNING: PcapReader: unknown LL type [1]/[0x1]. Using Raw packets\n"
     ]
    }
   ],
   "source": [
    "import scapy.utils\n",
    "# we import scapy utils in order to read the pcap file\n",
    "pkts = scapy.utils.rdpcap('sampleHTTP_capture.pcap')\n",
    "# we locate the sample pcap file (in this case it was saved in the same directory as this code so, it can be referenced as such\n",
    "with open(\"test.xml\", \"w\") as f:\n",
    "    # we will write as out as an XML file, the file will display <packet> when opened and </packet> when closed\n",
    "    f.write(\"<?xml version=\\\"1.0\\\" encoding=\\\"UTF-8\\\"?>\\n\")\n",
    "    f.write(\"<pcap>\\n\")\n",
    "    # we do this in order to demonstrate how the function will work, later on we will implement the data parsing to display IP source, destination, etc.\n",
    "    for pkt in pkts:\n",
    "        f.write(\"\\t<packet>\\n\")\n",
    "\n",
    "        for field in pkt:\n",
    "            if hasattr(field, 'field_name') and hasattr(field, 'raw_value'):\n",
    "                f.write(\"\\t\\t<{0}>{1}</{0}>\\n\".format(field.field_name, field.raw_value))\n",
    "\n",
    "        f.write(\"\\t</packet>\\n\")\n",
    "\n",
    "    f.write(\"</pcap>\\n\")"
   ]
  }
 ],
 "metadata": {
  "kernelspec": {
   "display_name": "Python 3",
   "language": "python",
   "name": "python3"
  },
  "language_info": {
   "codemirror_mode": {
    "name": "ipython",
    "version": 2
   },
   "file_extension": ".py",
   "mimetype": "text/x-python",
   "name": "python",
   "nbconvert_exporter": "python",
   "pygments_lexer": "ipython2",
   "version": "2.7.6"
  }
 },
 "nbformat": 4,
 "nbformat_minor": 0
}
